{
  "cells": [
    {
      "cell_type": "markdown",
      "metadata": {
        "id": "NZ9ZNxe91IRS"
      },
      "source": [
        "В этой задаче мы попытаемся сгенерировать sure cleared_sentences, используя различные рекуррентные нейронные сети"
      ]
    },
    {
      "cell_type": "markdown",
      "metadata": {
        "id": "GiEGdJZ79L9O"
      },
      "source": [
        "# Data preparation"
      ]
    },
    {
      "cell_type": "code",
      "execution_count": null,
      "metadata": {
        "id": "RFTEQZNq9jwE"
      },
      "outputs": [],
      "source": [
        "import os\n",
        "import numpy as np\n",
        "import pandas as pd\n",
        "import matplotlib.pyplot as plt\n",
        "import torch, torch.nn as nn\n",
        "import torch.nn.functional as F\n",
        "from torch.autograd import Variable\n",
        "from IPython.display import clear_output\n",
        "from random import sample,shuffle\n",
        "from tqdm import tqdm\n",
        "from string import punctuation\n",
        "from nltk.translate.bleu_score import corpus_bleu\n",
        "%matplotlib inline"
      ]
    },
    {
      "cell_type": "code",
      "execution_count": null,
      "metadata": {
        "colab": {
          "base_uri": "https://localhost:8080/"
        },
        "id": "5ZagS-v0_PlX",
        "outputId": "f1ad26b1-9cc0-4c70-c0c7-2cfd5c8af321"
      },
      "outputs": [
        {
          "output_type": "stream",
          "name": "stderr",
          "text": [
            "[nltk_data] Downloading package punkt to /root/nltk_data...\n",
            "[nltk_data]   Package punkt is already up-to-date!\n"
          ]
        },
        {
          "output_type": "execute_result",
          "data": {
            "text/plain": [
              "True"
            ]
          },
          "metadata": {},
          "execution_count": 70
        }
      ],
      "source": [
        "import nltk\n",
        "from nltk.tokenize import sent_tokenize\n",
        "nltk.download('punkt')"
      ]
    },
    {
      "cell_type": "code",
      "source": [
        "df = pd.read_csv(\"df_total.csv\")"
      ],
      "metadata": {
        "id": "V5IA0Crw1dyK"
      },
      "execution_count": null,
      "outputs": []
    },
    {
      "cell_type": "code",
      "execution_count": null,
      "metadata": {
        "id": "tzC_wwT28ner"
      },
      "outputs": [],
      "source": [
        "sentences = list((df[\"Обычный\"] + \" <CL> \" + df[\"Ясный\"]).values)"
      ]
    },
    {
      "cell_type": "code",
      "source": [
        "sentences[1]"
      ],
      "metadata": {
        "colab": {
          "base_uri": "https://localhost:8080/",
          "height": 36
        },
        "id": "pds9OHWG2I0_",
        "outputId": "dd04dce8-a122-4c9a-ca1e-ec966b9d4a71"
      },
      "execution_count": null,
      "outputs": [
        {
          "output_type": "execute_result",
          "data": {
            "text/plain": [
              "'Сегодня утром ко мне пришла соседка. Она попросила соль. <CL> Соседка пришла ко мне сегодня утром, попросив соль.'"
            ],
            "application/vnd.google.colaboratory.intrinsic+json": {
              "type": "string"
            }
          },
          "metadata": {},
          "execution_count": 73
        }
      ]
    },
    {
      "cell_type": "code",
      "execution_count": null,
      "metadata": {
        "colab": {
          "base_uri": "https://localhost:8080/"
        },
        "id": "89uJx3DVBtcQ",
        "outputId": "f335558a-a7f0-403e-da56-de32850d93ba"
      },
      "outputs": [
        {
          "output_type": "execute_result",
          "data": {
            "text/plain": [
              "1276"
            ]
          },
          "metadata": {},
          "execution_count": 74
        }
      ],
      "source": [
        "len(sentences)"
      ]
    },
    {
      "cell_type": "code",
      "execution_count": null,
      "metadata": {
        "id": "xdByv8nefn2X"
      },
      "outputs": [],
      "source": [
        "def prepare_sentance(s):\n",
        "  max_len = 70\n",
        "  s = s.lower()\n",
        "  for punct in punctuation:\n",
        "    s = s.replace(punct,\"\",len(s))\n",
        "  s = s.replace(\"\\n\",\"\",len(s))\n",
        "  s = \"<SOS> \" + s\n",
        "  while \"  \" in s:\n",
        "    s = s.replace(\"  \",\" \",len(s))\n",
        "  s = \" \".join(s.split()[:max_len])\n",
        "  return s"
      ]
    },
    {
      "cell_type": "code",
      "execution_count": null,
      "metadata": {
        "id": "JNnuNwhwb6BL"
      },
      "outputs": [],
      "source": [
        "cleared_sentences = list(map(prepare_sentance,sentences))\n",
        "shuffle(cleared_sentences)\n",
        "cleared_sentences_len = len(cleared_sentences)"
      ]
    },
    {
      "cell_type": "code",
      "execution_count": null,
      "metadata": {
        "id": "DeMACO_V_Aso"
      },
      "outputs": [],
      "source": [
        "test_data,train_data = cleared_sentences[:round(cleared_sentences_len*0.1)],cleared_sentences[round(cleared_sentences_len*0.1):]"
      ]
    },
    {
      "cell_type": "code",
      "execution_count": null,
      "metadata": {
        "colab": {
          "base_uri": "https://localhost:8080/",
          "height": 452
        },
        "id": "6I70z9dT9fO7",
        "outputId": "263e66f9-a10b-4096-a259-de547898ac0d"
      },
      "outputs": [
        {
          "output_type": "display_data",
          "data": {
            "text/plain": [
              "<Figure size 640x480 with 1 Axes>"
            ],
            "image/png": "[encoded data removed]"
          },
          "metadata": {}
        }
      ],
      "source": [
        "plt.title('Name length distribution')\n",
        "plt.hist(list(map(lambda cleared_sentence: len(cleared_sentence.split()), cleared_sentences)), bins=25);"
      ]
    },
    {
      "cell_type": "code",
      "execution_count": null,
      "metadata": {
        "colab": {
          "base_uri": "https://localhost:8080/"
        },
        "id": "HXalk0X5Af5H",
        "outputId": "af65b489-1864-45f3-e6c4-b8f5bd5f066f"
      },
      "outputs": [
        {
          "output_type": "stream",
          "name": "stdout",
          "text": [
            "num_tokens =  7079\n"
          ]
        }
      ],
      "source": [
        "tokens = []\n",
        "for cleared_sentence in cleared_sentences:\n",
        "  tokens += cleared_sentence.split()\n",
        "tokens = list(set(tokens)) + [\"<EOS>\"]\n",
        "num_tokens = len(tokens)\n",
        "print ('num_tokens = ', num_tokens)"
      ]
    },
    {
      "cell_type": "code",
      "execution_count": null,
      "metadata": {
        "id": "RE_2zA87Ap3R"
      },
      "outputs": [],
      "source": [
        "token_to_id = {token: idx for idx, token in enumerate(tokens)}"
      ]
    },
    {
      "cell_type": "code",
      "execution_count": null,
      "metadata": {
        "id": "x5fVoDMtArmI"
      },
      "outputs": [],
      "source": [
        "def to_matrix(data, token_to_id,max_len=150, dtype='int32', batch_first = True):\n",
        "    \"\"\"Casts a list of cleared_sentences into rnn-digestable matrix\"\"\"\n",
        "    data_ix = np.zeros([len(data), max_len], dtype) + token_to_id[\"<EOS>\"]\n",
        "    for i in range(len(data)):\n",
        "        line_ix = [token_to_id[c] for c in data[i].split()]\n",
        "        data_ix[i, :len(line_ix)] = line_ix\n",
        "\n",
        "    if not batch_first: # convert [batch, time] into [time, batch]\n",
        "        data_ix = np.transpose(data_ix)\n",
        "\n",
        "    return data_ix\n"
      ]
    },
    {
      "cell_type": "code",
      "execution_count": null,
      "metadata": {
        "colab": {
          "base_uri": "https://localhost:8080/"
        },
        "id": "g-hXRR_41ICh",
        "outputId": "4e02cf9a-0899-4e14-ba58-d0c577766122"
      },
      "outputs": [
        {
          "output_type": "execute_result",
          "data": {
            "text/plain": [
              "device(type='cuda', index=0)"
            ]
          },
          "metadata": {},
          "execution_count": 82
        }
      ],
      "source": [
        "device = torch.device('cuda:0' if torch.cuda.is_available() else 'cpu')\n",
        "device"
      ]
    },
    {
      "cell_type": "code",
      "execution_count": null,
      "metadata": {
        "id": "M-nzkqTuGEb3"
      },
      "outputs": [],
      "source": [
        "MAX_LENGTH = max(map(lambda sent: len(sent.split()), cleared_sentences))"
      ]
    },
    {
      "cell_type": "code",
      "execution_count": null,
      "metadata": {
        "id": "EAMF9s0yxRPQ"
      },
      "outputs": [],
      "source": [
        "class CLDataset(torch.utils.data.Dataset):\n",
        "  def __init__(self, x, token_to_id,max_len=None):\n",
        "    self.x = x\n",
        "    self.token_to_id = token_to_id\n",
        "    self.max_len = max_len\n",
        "  def __len__(self):\n",
        "    return len(self.x)\n",
        "  def __getitem__(self, idx):\n",
        "    return torch.tensor(to_matrix([self.x[idx]], self.token_to_id, self.max_len), dtype=torch.int64)[0]"
      ]
    },
    {
      "cell_type": "code",
      "execution_count": null,
      "metadata": {
        "id": "YW6p0qaw9m2W"
      },
      "outputs": [],
      "source": [
        "dataset = CLDataset(train_data,token_to_id, 150)"
      ]
    },
    {
      "cell_type": "code",
      "execution_count": null,
      "metadata": {
        "id": "uefRODhJ-QKI"
      },
      "outputs": [],
      "source": [
        "dl = torch.utils.data.DataLoader(dataset,batch_size=64, shuffle=True)"
      ]
    },
    {
      "cell_type": "markdown",
      "metadata": {
        "id": "0pfkg_NMH7KD"
      },
      "source": [
        "# classic RNN"
      ]
    },
    {
      "cell_type": "code",
      "execution_count": null,
      "metadata": {
        "id": "bMysn7pDvWgJ"
      },
      "outputs": [],
      "source": [
        "class sentRNNLoop(nn.Module):\n",
        "    def __init__(self, num_tokens=num_tokens, emb_size=100, rnn_num_units=64):\n",
        "        super(self.__class__, self).__init__()\n",
        "        self.emb = nn.Embedding(num_tokens, emb_size)\n",
        "        self.rnn = nn.RNN(emb_size, rnn_num_units, 3, batch_first=True)\n",
        "        self.hid_to_logits = nn.Linear(rnn_num_units, num_tokens)\n",
        "\n",
        "    def forward(self, x):\n",
        "        #assert isinstance(x, Variable) and isinstance(x.data, torch.LongTensor)\n",
        "        h_seq, _ = self.rnn(self.emb(x))\n",
        "        next_logits = self.hid_to_logits(h_seq)\n",
        "        next_logp = F.log_softmax(next_logits, dim=-1)\n",
        "        return next_logp\n",
        "\n",
        "rnn_model = sentRNNLoop().to(device)\n",
        "opt = torch.optim.Adam(rnn_model.parameters())\n",
        "history = []\n"
      ]
    },
    {
      "cell_type": "code",
      "source": [
        "!pip install torchviz"
      ],
      "metadata": {
        "colab": {
          "base_uri": "https://localhost:8080/"
        },
        "id": "g9ULWH9s-IeF",
        "outputId": "b7adb0ac-c809-4afc-c75b-ca823794cc8c"
      },
      "execution_count": null,
      "outputs": [
        {
          "output_type": "stream",
          "name": "stdout",
          "text": [
            "Looking in indexes: https://pypi.org/simple, https://us-python.pkg.dev/colab-wheels/public/simple/\n",
            "Requirement already satisfied: torchviz in /usr/local/lib/python3.10/dist-packages (0.0.2)\n",
            "Requirement already satisfied: torch in /usr/local/lib/python3.10/dist-packages (from torchviz) (2.0.1+cu118)\n",
            "Requirement already satisfied: graphviz in /usr/local/lib/python3.10/dist-packages (from torchviz) (0.20.1)\n",
            "Requirement already satisfied: filelock in /usr/local/lib/python3.10/dist-packages (from torch->torchviz) (3.12.0)\n",
            "Requirement already satisfied: typing-extensions in /usr/local/lib/python3.10/dist-packages (from torch->torchviz) (4.5.0)\n",
            "Requirement already satisfied: sympy in /usr/local/lib/python3.10/dist-packages (from torch->torchviz) (1.11.1)\n",
            "Requirement already satisfied: networkx in /usr/local/lib/python3.10/dist-packages (from torch->torchviz) (3.1)\n",
            "Requirement already satisfied: jinja2 in /usr/local/lib/python3.10/dist-packages (from torch->torchviz) (3.1.2)\n",
            "Requirement already satisfied: triton==2.0.0 in /usr/local/lib/python3.10/dist-packages (from torch->torchviz) (2.0.0)\n",
            "Requirement already satisfied: cmake in /usr/local/lib/python3.10/dist-packages (from triton==2.0.0->torch->torchviz) (3.25.2)\n",
            "Requirement already satisfied: lit in /usr/local/lib/python3.10/dist-packages (from triton==2.0.0->torch->torchviz) (16.0.5)\n",
            "Requirement already satisfied: MarkupSafe>=2.0 in /usr/local/lib/python3.10/dist-packages (from jinja2->torch->torchviz) (2.1.2)\n",
            "Requirement already satisfied: mpmath>=0.19 in /usr/local/lib/python3.10/dist-packages (from sympy->torch->torchviz) (1.3.0)\n"
          ]
        }
      ]
    },
    {
      "cell_type": "code",
      "source": [
        "from torchviz import make_dot\n",
        "\n",
        "make_dot(rnn_model.forward(torch.Tensor([[7078,7078,7078]]).long().to(device)), params=dict(list(rnn_model.named_parameters()))).render(\"rnn_torchviz\", format=\"png\")"
      ],
      "metadata": {
        "colab": {
          "base_uri": "https://localhost:8080/",
          "height": 36
        },
        "id": "d7kqkb9I9OD_",
        "outputId": "4f82b7d6-5ae0-4ab0-e028-405580177e97"
      },
      "execution_count": null,
      "outputs": [
        {
          "output_type": "execute_result",
          "data": {
            "text/plain": [
              "'rnn_torchviz.png'"
            ],
            "application/vnd.google.colaboratory.intrinsic+json": {
              "type": "string"
            }
          },
          "metadata": {},
          "execution_count": 89
        }
      ]
    },
    {
      "cell_type": "code",
      "execution_count": null,
      "metadata": {
        "id": "Fj895fXqv-Xe"
      },
      "outputs": [],
      "source": [
        "MAX_LENGTH = max(map(lambda sent: len(sent.split()), cleared_sentences))\n",
        "def train_model(model,data,token_to_id,epochs,max_len, device=None):\n",
        "    if device is None:\n",
        "      device = torch.device('cuda:0' if torch.cuda.is_available() else 'cpu')\n",
        "    for i in tqdm(range(epochs)):\n",
        "      for j, batch_ix in enumerate(data):\n",
        "        batch_ix = batch_ix.to(device)\n",
        "\n",
        "        logp_seq = model(batch_ix)\n",
        "\n",
        "        # compute loss\n",
        "        predictions_logp = logp_seq[:, :-1]\n",
        "        actual_next_tokens = batch_ix[:, 1:]\n",
        "\n",
        "        loss = -torch.mean(torch.gather(predictions_logp, dim=2, index=actual_next_tokens[:,:,None]))\n",
        "\n",
        "        # train with backprop\n",
        "        loss.backward()\n",
        "        opt.step()\n",
        "        opt.zero_grad()\n",
        "\n",
        "        history.append(loss.data.cpu().numpy())\n",
        "        if (j + 1) % 100 == 0:\n",
        "            clear_output(True)\n",
        "            plt.plot(history, label='loss')\n",
        "            plt.legend()\n",
        "            plt.show()\n",
        "\n",
        "    assert np.mean(history[:25]) > np.mean(history[-25:]), \"RNN didn't converge.\""
      ]
    },
    {
      "cell_type": "code",
      "execution_count": null,
      "metadata": {
        "colab": {
          "base_uri": "https://localhost:8080/"
        },
        "id": "IjDFTfJUbxQY",
        "outputId": "0c609afa-c912-418d-c016-ef25e8c40ef5"
      },
      "outputs": [
        {
          "output_type": "stream",
          "name": "stderr",
          "text": [
            "100%|██████████| 300/300 [02:58<00:00,  1.68it/s]\n"
          ]
        }
      ],
      "source": [
        "train_model(model=rnn_model,data = dl,token_to_id = token_to_id,epochs=300,max_len=MAX_LENGTH)"
      ]
    },
    {
      "cell_type": "code",
      "execution_count": null,
      "metadata": {
        "id": "ogSBukapKUWY"
      },
      "outputs": [],
      "source": [
        "def generate_sample(model, seed_phrase=None, max_length=MAX_LENGTH, temperature=1):\n",
        "    '''\n",
        "    The function generates text given a phrase of length at least SEQ_LENGTH.\n",
        "    :param seed_phrase: prefix characters. The RNN is asked to continue the phrase\n",
        "    :param max_length: maximum output length, including seed_phrase\n",
        "    :param temperature: coefficient for sampling.  higher temperature produces more chaotic outputs,\n",
        "                        smaller temperature converges to the single most likely output\n",
        "    '''\n",
        "    if seed_phrase is None:\n",
        "      seed_phrase = \"<SOS>\"\n",
        "    input = torch.LongTensor([token_to_id[l] for l in seed_phrase.split()])\n",
        "    start_len = len(input)\n",
        "    for i in range(max_length-start_len):\n",
        "      raw_output = model(input)\n",
        "      p_next = F.softmax(raw_output[-1] / temperature, dim=-1).data.numpy()\n",
        "      next_ix = np.random.choice(len(tokens),p=p_next)\n",
        "      input = torch.cat([input, torch.LongTensor([next_ix])])\n",
        "    result =  ' '.join([tokens[ix] for ix in input])\n",
        "    return result.replace(\" <EOS>\",\"\",len(result))\n",
        "    #return result.replace(\"<SOS> \",\"\").replace(\" <EOS>\",\"\",len(result))"
      ]
    },
    {
      "cell_type": "code",
      "execution_count": null,
      "metadata": {
        "colab": {
          "base_uri": "https://localhost:8080/"
        },
        "id": "E0y-6dujMi_K",
        "outputId": "48fe2dcb-bfe6-4985-afb1-ab93813bd21b"
      },
      "outputs": [
        {
          "output_type": "execute_result",
          "data": {
            "text/plain": [
              "sentRNNLoop(\n",
              "  (emb): Embedding(7079, 100)\n",
              "  (rnn): RNN(100, 64, num_layers=3, batch_first=True)\n",
              "  (hid_to_logits): Linear(in_features=64, out_features=7079, bias=True)\n",
              ")"
            ]
          },
          "metadata": {},
          "execution_count": 93
        }
      ],
      "source": [
        "rnn_model.to(\"cpu\")"
      ]
    },
    {
      "cell_type": "code",
      "execution_count": null,
      "metadata": {
        "colab": {
          "base_uri": "https://localhost:8080/"
        },
        "id": "_H1JP43Cw-kD",
        "outputId": "b3f9647e-84d6-4e19-e9c4-ed3de942c005"
      },
      "outputs": [
        {
          "output_type": "stream",
          "name": "stdout",
          "text": [
            "кошелек потерял нужно найти его ради cl я не домашнее и поражен белых работу в лесу кончилось новый заменить cl семья готовки явлением и у их все его друзья всей пути на время но нас стало порошок она тратить её проблему заказали металлическую лестницу\n",
            "______________________________________________________________________________________________________________________________________________________\n",
            "кошелек потерял нужно найти его некоторое вечер cl мои отсутствия штору но обнаружив что не было пошли на день своим более вещей cl даша подумал завтрак днем в магазин\n",
            "______________________________________________________________________________________________________________________________________________________\n",
            "кошелек потерял нужно найти его страшные решила уборку новую работу но забыла кошелек и оказался принес по покупки cl когда прочитал маской любимой обработки закат их чтобы стоило заменить cl на утро валерий успели зависть день\n",
            "______________________________________________________________________________________________________________________________________________________\n"
          ]
        }
      ],
      "source": [
        "for _ in range(3):\n",
        "  print(generate_sample(rnn_model,seed_phrase=\"кошелек потерял нужно найти его cl\", temperature = 0.9))\n",
        "  print(\"_\"*150)"
      ]
    },
    {
      "cell_type": "code",
      "execution_count": null,
      "metadata": {
        "id": "jXPqlEqSBZdy"
      },
      "outputs": [],
      "source": [
        "def evalueate_model(model, ref_data, temperature = 1, samples_num = 10):\n",
        "  references = list(map(lambda s: s.split(),ref_data))\n",
        "  return [corpus_bleu([references], [generate_sample(model,temperature=temperature).split()])\n",
        "          for _ in tqdm(range(samples_num))]"
      ]
    },
    {
      "cell_type": "code",
      "execution_count": null,
      "metadata": {
        "colab": {
          "base_uri": "https://localhost:8080/"
        },
        "id": "jIuUoaTWCswE",
        "outputId": "73b97ec3-cdc9-41c3-97b3-c7943c8593ee"
      },
      "outputs": [
        {
          "output_type": "stream",
          "name": "stderr",
          "text": [
            "  0%|          | 0/10 [00:00<?, ?it/s]/usr/local/lib/python3.10/dist-packages/nltk/translate/bleu_score.py:552: UserWarning: \n",
            "The hypothesis contains 0 counts of 3-gram overlaps.\n",
            "Therefore the BLEU score evaluates to 0, independently of\n",
            "how many N-gram overlaps of lower order it contains.\n",
            "Consider using lower n-gram order or use SmoothingFunction()\n",
            "  warnings.warn(_msg)\n",
            "/usr/local/lib/python3.10/dist-packages/nltk/translate/bleu_score.py:552: UserWarning: \n",
            "The hypothesis contains 0 counts of 4-gram overlaps.\n",
            "Therefore the BLEU score evaluates to 0, independently of\n",
            "how many N-gram overlaps of lower order it contains.\n",
            "Consider using lower n-gram order or use SmoothingFunction()\n",
            "  warnings.warn(_msg)\n",
            " 40%|████      | 4/10 [00:01<00:01,  3.53it/s]/usr/local/lib/python3.10/dist-packages/nltk/translate/bleu_score.py:552: UserWarning: \n",
            "The hypothesis contains 0 counts of 2-gram overlaps.\n",
            "Therefore the BLEU score evaluates to 0, independently of\n",
            "how many N-gram overlaps of lower order it contains.\n",
            "Consider using lower n-gram order or use SmoothingFunction()\n",
            "  warnings.warn(_msg)\n",
            "100%|██████████| 10/10 [00:02<00:00,  3.65it/s]\n"
          ]
        }
      ],
      "source": [
        "rnn_result = evalueate_model(rnn_model,test_data, temperature = 0.6)"
      ]
    },
    {
      "cell_type": "code",
      "execution_count": null,
      "metadata": {
        "colab": {
          "base_uri": "https://localhost:8080/"
        },
        "id": "LKk_rC3mQ4JE",
        "outputId": "57649c39-af7f-43ee-d525-b3c4e8577e7e"
      },
      "outputs": [
        {
          "output_type": "execute_result",
          "data": {
            "text/plain": [
              "0.05939047365171549"
            ]
          },
          "metadata": {},
          "execution_count": 97
        }
      ],
      "source": [
        "sum(rnn_result)/10"
      ]
    },
    {
      "cell_type": "code",
      "source": [
        "plt.plot(history)"
      ],
      "metadata": {
        "colab": {
          "base_uri": "https://localhost:8080/",
          "height": 447
        },
        "id": "VJ6Kfv73CCMK",
        "outputId": "205af260-e5ad-497a-f880-9b1f976e52dc"
      },
      "execution_count": null,
      "outputs": [
        {
          "output_type": "execute_result",
          "data": {
            "text/plain": [
              "[<matplotlib.lines.Line2D at 0x7f2fd45f7100>]"
            ]
          },
          "metadata": {},
          "execution_count": 98
        },
        {
          "output_type": "display_data",
          "data": {
            "text/plain": [
              "<Figure size 640x480 with 1 Axes>"
            ],
            "image/png": "[encoded data removed]"
          },
          "metadata": {}
        }
      ]
    },
    {
      "cell_type": "markdown",
      "metadata": {
        "id": "qsJQxLdcIDmW"
      },
      "source": [
        "# GRU and LSTM RNN"
      ]
    },
    {
      "cell_type": "code",
      "execution_count": null,
      "metadata": {
        "id": "NLQA-IwdIIwl"
      },
      "outputs": [],
      "source": [
        "class sentLSTMLoop(nn.Module):\n",
        "    def __init__(self, num_tokens=num_tokens, emb_size=1000, rnn_num_units=64):\n",
        "        super(self.__class__, self).__init__()\n",
        "        self.emb = nn.Embedding(num_tokens, emb_size)\n",
        "        self.rnn1 = nn.GRU(emb_size, rnn_num_units, 2, batch_first=True)\n",
        "        self.rnn2 = nn.LSTM(rnn_num_units, rnn_num_units,1, batch_first=True)\n",
        "        self.hid_to_logits = nn.Linear(rnn_num_units, num_tokens)\n",
        "\n",
        "    def forward(self, x):\n",
        "        #assert isinstance(x, Variable) and isinstance(x.data, torch.LongTensor)\n",
        "        h_seq, _ = self.rnn1(self.emb(x))\n",
        "        h_seq, _ = self.rnn2(h_seq)\n",
        "        next_logits = self.hid_to_logits(h_seq)\n",
        "        next_logp = F.log_softmax(next_logits, dim=-1)\n",
        "        return next_logp\n",
        "\n",
        "lstm_model = sentLSTMLoop().to(device)\n",
        "opt = torch.optim.Adam(lstm_model.parameters())\n",
        "history = []"
      ]
    },
    {
      "cell_type": "code",
      "source": [
        "make_dot(lstm_model.forward(torch.Tensor([[7078,7078,7078]]).long().to(device)), params=dict(list(lstm_model.named_parameters()))).render(\"lstm_torchviz\", format=\"png\")"
      ],
      "metadata": {
        "colab": {
          "base_uri": "https://localhost:8080/",
          "height": 36
        },
        "id": "I3TnVENaBIMU",
        "outputId": "6bbfa033-ecdb-42c5-8f99-68fafa962e83"
      },
      "execution_count": null,
      "outputs": [
        {
          "output_type": "execute_result",
          "data": {
            "text/plain": [
              "'lstm_torchviz.png'"
            ],
            "application/vnd.google.colaboratory.intrinsic+json": {
              "type": "string"
            }
          },
          "metadata": {},
          "execution_count": 100
        }
      ]
    },
    {
      "cell_type": "code",
      "execution_count": null,
      "metadata": {
        "colab": {
          "base_uri": "https://localhost:8080/"
        },
        "id": "xKdKfEgugJa7",
        "outputId": "3337288f-290c-4e2e-ab6e-501dcad4ca5b"
      },
      "outputs": [
        {
          "output_type": "stream",
          "name": "stderr",
          "text": [
            "100%|██████████| 500/500 [05:49<00:00,  1.43it/s]\n"
          ]
        }
      ],
      "source": [
        "train_model(model=lstm_model,data = dl,token_to_id = token_to_id,epochs=500,max_len=70)"
      ]
    },
    {
      "cell_type": "code",
      "source": [
        "plt.plot(history)"
      ],
      "metadata": {
        "colab": {
          "base_uri": "https://localhost:8080/",
          "height": 447
        },
        "id": "Zofadb5G9TH-",
        "outputId": "2fbaeb15-635c-4678-f0c4-ffbb766ffc91"
      },
      "execution_count": null,
      "outputs": [
        {
          "output_type": "execute_result",
          "data": {
            "text/plain": [
              "[<matplotlib.lines.Line2D at 0x7f2fd5899900>]"
            ]
          },
          "metadata": {},
          "execution_count": 102
        },
        {
          "output_type": "display_data",
          "data": {
            "text/plain": [
              "<Figure size 640x480 with 1 Axes>"
            ],
            "image/png": "[encoded data removed]"
          },
          "metadata": {}
        }
      ]
    },
    {
      "cell_type": "code",
      "execution_count": null,
      "metadata": {
        "colab": {
          "base_uri": "https://localhost:8080/"
        },
        "id": "4ewhv_eCgXo5",
        "outputId": "1d434103-fcd9-431a-f704-75f417ff4fa6"
      },
      "outputs": [
        {
          "output_type": "execute_result",
          "data": {
            "text/plain": [
              "sentLSTMLoop(\n",
              "  (emb): Embedding(7079, 1000)\n",
              "  (rnn1): GRU(1000, 64, batch_first=True)\n",
              "  (rnn2): LSTM(64, 64, batch_first=True)\n",
              "  (hid_to_logits): Linear(in_features=64, out_features=7079, bias=True)\n",
              ")"
            ]
          },
          "metadata": {},
          "execution_count": 103
        }
      ],
      "source": [
        "lstm_model.to(\"cpu\")"
      ]
    },
    {
      "cell_type": "code",
      "execution_count": null,
      "metadata": {
        "colab": {
          "base_uri": "https://localhost:8080/"
        },
        "id": "oYSnBvirnFnK",
        "outputId": "c839a740-ed45-47e9-d1c4-7ba81740e877"
      },
      "outputs": [
        {
          "output_type": "stream",
          "name": "stdout",
          "text": [
            "я сегодня попросил выходной чтобы посетить свою бабушку в другом городе cl москитным углы выключить когда нужно купить cl нужно купить новые зубной порошок ей попыталась\n",
            "______________________________________________________________________________________________________________________________________________________\n",
            "я сегодня попросил выходной чтобы посетить свою бабушку в другом городе cl блюдо я немного ушла у нее из метро но это было обойтись обед из нее нет к проросла надевать cl коллеги помощь сама к\n",
            "______________________________________________________________________________________________________________________________________________________\n",
            "я сегодня попросил выходной чтобы посетить свою бабушку в другом городе cl порядок работой я сделал пришлось готовить ужин пришлось микроволновку ездить обувь окно чтобы следующий по утро игре cl я приготовила сделала комнаты но ее блюда которое пиццу по попала сгорел заказали дождь как заказали что заказали пиццу на ужин но забыл получился про книгу и пришлось купила вернулся билеты домой и по пути на работу\n",
            "______________________________________________________________________________________________________________________________________________________\n"
          ]
        }
      ],
      "source": [
        "for _ in range(3):\n",
        "  print(generate_sample(lstm_model, seed_phrase=\"я сегодня попросил выходной чтобы посетить свою бабушку в другом городе cl\",temperature = 0.9))\n",
        "  print(\"_\"*150)"
      ]
    },
    {
      "cell_type": "code",
      "execution_count": null,
      "metadata": {
        "id": "Mxpvt6Ev5J-C",
        "colab": {
          "base_uri": "https://localhost:8080/"
        },
        "outputId": "1fd95ce0-333c-41f0-d8dd-e9028f3dfda1"
      },
      "outputs": [
        {
          "output_type": "stream",
          "name": "stderr",
          "text": [
            "  0%|          | 0/10 [00:00<?, ?it/s]/usr/local/lib/python3.10/dist-packages/nltk/translate/bleu_score.py:552: UserWarning: \n",
            "The hypothesis contains 0 counts of 3-gram overlaps.\n",
            "Therefore the BLEU score evaluates to 0, independently of\n",
            "how many N-gram overlaps of lower order it contains.\n",
            "Consider using lower n-gram order or use SmoothingFunction()\n",
            "  warnings.warn(_msg)\n",
            "/usr/local/lib/python3.10/dist-packages/nltk/translate/bleu_score.py:552: UserWarning: \n",
            "The hypothesis contains 0 counts of 4-gram overlaps.\n",
            "Therefore the BLEU score evaluates to 0, independently of\n",
            "how many N-gram overlaps of lower order it contains.\n",
            "Consider using lower n-gram order or use SmoothingFunction()\n",
            "  warnings.warn(_msg)\n",
            "100%|██████████| 10/10 [00:03<00:00,  2.94it/s]\n"
          ]
        }
      ],
      "source": [
        "lstm_result = evalueate_model(lstm_model,test_data,temperature = 0.3)"
      ]
    },
    {
      "cell_type": "code",
      "execution_count": null,
      "metadata": {
        "colab": {
          "base_uri": "https://localhost:8080/"
        },
        "id": "dydlSd00Rta6",
        "outputId": "6471ef95-17fd-448a-ea11-40ac0540413f"
      },
      "outputs": [
        {
          "output_type": "execute_result",
          "data": {
            "text/plain": [
              "0.043773493813260435"
            ]
          },
          "metadata": {},
          "execution_count": 106
        }
      ],
      "source": [
        "sum(lstm_result)/10"
      ]
    }
  ],
  "metadata": {
    "accelerator": "GPU",
    "colab": {
      "provenance": [],
      "gpuType": "T4"
    },
    "kernelspec": {
      "display_name": "Python 3",
      "name": "python3"
    },
    "language_info": {
      "name": "python"
    }
  },
  "nbformat": 4,
  "nbformat_minor": 0
}